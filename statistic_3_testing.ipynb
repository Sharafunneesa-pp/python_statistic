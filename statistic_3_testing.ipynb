{
 "cells": [
  {
   "cell_type": "code",
   "execution_count": 22,
   "id": "435177a8",
   "metadata": {},
   "outputs": [
    {
     "name": "stdout",
     "output_type": "stream",
     "text": [
      "Z-statistic: 4.219127908951527\n",
      "P-value: 2.4524911426571094e-05\n",
      "Fail to reject the null hypothesis: There is no significant evidence to suggest that the sample mean is different from the population mean.\n"
     ]
    }
   ],
   "source": [
    "import numpy as np\n",
    "from scipy.stats import norm\n",
    "\n",
    "# Define your sample data and parameters\n",
    "sample_data = np.array([85, 88, 90, 84, 89, 92, 87, 93, 91, 90])\n",
    "population_mean = 85  # Population mean (null hypothesis)\n",
    "\n",
    "# Calculate sample statistics\n",
    "sample_mean = np.mean(sample_data)\n",
    "sample_std = np.std(sample_data, ddof=1)  # Use ddof=1 for sample standard deviation\n",
    "\n",
    "# Calculate z-statistic\n",
    "z_statistic = (sample_mean - population_mean) / (sample_std / np.sqrt(len(sample_data)))\n",
    "\n",
    "# Calculate p-value\n",
    "p_value = 2 * (1 - norm.cdf(abs(z_statistic)))\n",
    "\n",
    "# Print the results\n",
    "print(\"Z-statistic:\", z_statistic)\n",
    "print(\"P-value:\", p_value)\n",
    "\n",
    "# Interpret the results\n",
    "alpha = 0.05  # Significance level\n",
    "if p_value < alpha:\n",
    "    print(\"Reject the null hypothesis: There is significant evidence to suggest that the sample mean is different from the population mean.\")\n",
    "else:\n",
    "    print(\"Fail to reject the null hypothesis: There is no significant evidence to suggest that the sample mean is different from the population mean.\")\n"
   ]
  },
  {
   "cell_type": "code",
   "execution_count": null,
   "id": "43e8f3aa",
   "metadata": {},
   "outputs": [],
   "source": []
  }
 ],
 "metadata": {
  "kernelspec": {
   "display_name": "Python 3 (ipykernel)",
   "language": "python",
   "name": "python3"
  },
  "language_info": {
   "codemirror_mode": {
    "name": "ipython",
    "version": 3
   },
   "file_extension": ".py",
   "mimetype": "text/x-python",
   "name": "python",
   "nbconvert_exporter": "python",
   "pygments_lexer": "ipython3",
   "version": "3.11.5"
  }
 },
 "nbformat": 4,
 "nbformat_minor": 5
}

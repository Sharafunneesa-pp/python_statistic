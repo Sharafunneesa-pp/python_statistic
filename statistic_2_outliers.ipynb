{
 "cells": [
  {
   "cell_type": "markdown",
   "id": "0ae8c006",
   "metadata": {},
   "source": [
    "# Different methods for finding outliers "
   ]
  },
  {
   "cell_type": "code",
   "execution_count": 40,
   "id": "d152cbf8",
   "metadata": {},
   "outputs": [],
   "source": [
    "import numpy as np\n",
    "import matplotlib.pyplot as plt\n",
    "import seaborn as sns\n",
    "%matplotlib inline"
   ]
  },
  {
   "cell_type": "markdown",
   "id": "9f0f7bac",
   "metadata": {},
   "source": [
    "## 1. Z Score \n",
    "###  Z-score quantifies how many standard deviations a data point is from the mean.\n"
   ]
  },
  {
   "cell_type": "code",
   "execution_count": 41,
   "id": "3923f9b4",
   "metadata": {},
   "outputs": [],
   "source": [
    "# define dataset\n",
    "ds=[10,10,12,13,14,13,14,15,12,13,14,12,14,15,16,14,100,108,12,13,15,15,14,16,15,0]\n",
    "\n",
    "def detect_outliers(ds):\n",
    "    outliers=[]\n",
    "    threshold=3 #third standard deviation\n",
    "    mean=np.mean(ds)\n",
    "    std_dev=np.std(ds)\n",
    "    for i in ds:\n",
    "        z_score=(i-mean)/std_dev\n",
    "        if np.abs(z_score)>threshold:\n",
    "            outliers.append(i)\n",
    "    return outliers\n",
    "            "
   ]
  },
  {
   "cell_type": "code",
   "execution_count": 42,
   "id": "7694fc06",
   "metadata": {},
   "outputs": [
    {
     "data": {
      "text/plain": [
       "[100, 108]"
      ]
     },
     "execution_count": 42,
     "metadata": {},
     "output_type": "execute_result"
    }
   ],
   "source": [
    "detect_outliers(ds)"
   ]
  },
  {
   "cell_type": "markdown",
   "id": "1df73574",
   "metadata": {},
   "source": [
    "## 2. IQR\n",
    "### The Interquartile Range (IQR) represents the range between the 25th and 75th percentiles in a dataset"
   ]
  },
  {
   "cell_type": "code",
   "execution_count": 43,
   "id": "fc4cf87c",
   "metadata": {},
   "outputs": [],
   "source": [
    "ds=sorted(ds)"
   ]
  },
  {
   "cell_type": "code",
   "execution_count": 44,
   "id": "4064ae36",
   "metadata": {},
   "outputs": [],
   "source": [
    "# A percentile is a measure used in statistics to indicate the value below which a given percentage of observations in a group of observations falls. \n",
    "q1,q3=np.percentile(ds,[25,75])\n",
    "iqr=q3-q1"
   ]
  },
  {
   "cell_type": "code",
   "execution_count": 45,
   "id": "fd84a8e8",
   "metadata": {},
   "outputs": [
    {
     "name": "stdout",
     "output_type": "stream",
     "text": [
      "Outliers: 0\n",
      "Outliers: 100\n",
      "Outliers: 108\n"
     ]
    }
   ],
   "source": [
    "lower_fence=q1-(1.5*iqr)\n",
    "higher_fence=q3+(1.5*iqr)\n",
    "for data in ds:\n",
    "    if (data < lower_fence) or (data > higher_fence):\n",
    "        print(\"Outliers:\", data)"
   ]
  },
  {
   "cell_type": "markdown",
   "id": "66069b0e",
   "metadata": {},
   "source": [
    "### 3. Boxplot"
   ]
  },
  {
   "cell_type": "code",
   "execution_count": 46,
   "id": "1746cd94",
   "metadata": {},
   "outputs": [
    {
     "data": {
      "text/plain": [
       "<Axes: >"
      ]
     },
     "execution_count": 46,
     "metadata": {},
     "output_type": "execute_result"
    },
    {
     "data": {
      "image/png": "[encoded data removed]",
      "text/plain": [
       "<Figure size 640x480 with 1 Axes>"
      ]
     },
     "metadata": {},
     "output_type": "display_data"
    }
   ],
   "source": [
    "sns.boxplot(ds)"
   ]
  },
  {
   "cell_type": "markdown",
   "id": "6557c78b",
   "metadata": {},
   "source": [
    "### 4. Scatter plot"
   ]
  },
  {
   "cell_type": "code",
   "execution_count": 47,
   "id": "2e09f9ed",
   "metadata": {},
   "outputs": [
    {
     "data": {
      "image/png": "[encoded data removed]",
      "text/plain": [
       "<Figure size 640x480 with 1 Axes>"
      ]
     },
     "metadata": {},
     "output_type": "display_data"
    }
   ],
   "source": [
    "# Create a scatter plot\n",
    "plt.scatter(range(len(ds)), ds, color='red')\n",
    "\n",
    "# Add labels and title\n",
    "plt.xlabel('Index')\n",
    "plt.ylabel('Data Value')\n",
    "plt.title('Scatter Plot of Dataset')\n",
    "\n",
    "# Show the plot\n",
    "plt.show()"
   ]
  },
  {
   "cell_type": "code",
   "execution_count": null,
   "id": "ee2e4d16",
   "metadata": {},
   "outputs": [],
   "source": []
  }
 ],
 "metadata": {
  "kernelspec": {
   "display_name": "Python 3 (ipykernel)",
   "language": "python",
   "name": "python3"
  },
  "language_info": {
   "codemirror_mode": {
    "name": "ipython",
    "version": 3
   },
   "file_extension": ".py",
   "mimetype": "text/x-python",
   "name": "python",
   "nbconvert_exporter": "python",
   "pygments_lexer": "ipython3",
   "version": "3.11.5"
  }
 },
 "nbformat": 4,
 "nbformat_minor": 5
}
